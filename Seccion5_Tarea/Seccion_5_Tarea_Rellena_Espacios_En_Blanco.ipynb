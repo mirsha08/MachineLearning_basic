{
 "cells": [
  {
   "cell_type": "markdown",
   "metadata": {},
   "source": [
    "## Sección 5 - Tarea - Rellena los Espacios en Blanco"
   ]
  },
  {
   "cell_type": "markdown",
   "metadata": {},
   "source": [
    "Importa los paquetes que se necesitan para realizar el análisis "
   ]
  },
  {
   "cell_type": "code",
   "execution_count": null,
   "metadata": {
    "collapsed": true,
    "jupyter": {
     "outputs_hidden": true
    }
   },
   "outputs": [],
   "source": [
    "import _ as pd\n",
    "import _ as np\n",
    "import _ as plt\n",
    "import _ as sns\n",
    "%matplotlib inline"
   ]
  },
  {
   "cell_type": "markdown",
   "metadata": {},
   "source": [
    "Carga los datos proveídos para el ejercicio"
   ]
  },
  {
   "cell_type": "code",
   "execution_count": null,
   "metadata": {
    "collapsed": true,
    "jupyter": {
     "outputs_hidden": true
    }
   },
   "outputs": [],
   "source": [
    "# Importa el los datos en el archivo csv\n",
    "datos = _(\"DatosDemograficos.csv\")"
   ]
  },
  {
   "cell_type": "markdown",
   "metadata": {},
   "source": [
    "Explora los datos"
   ]
  },
  {
   "cell_type": "code",
   "execution_count": null,
   "metadata": {
    "collapsed": true,
    "jupyter": {
     "outputs_hidden": true
    }
   },
   "outputs": [],
   "source": [
    "# Visualiza el DataFrame\n",
    "datos"
   ]
  },
  {
   "cell_type": "code",
   "execution_count": null,
   "metadata": {
    "collapsed": true,
    "jupyter": {
     "outputs_hidden": true
    }
   },
   "outputs": [],
   "source": [
    "# Cambia el nombre a las columnas\n",
    "datos._ = ['NombrePais', 'CodigoPais', 'TasaNatalidad', 'UsuariosInternet', 'GrupoIngreso']"
   ]
  },
  {
   "cell_type": "code",
   "execution_count": null,
   "metadata": {
    "collapsed": true,
    "jupyter": {
     "outputs_hidden": true
    }
   },
   "outputs": [],
   "source": [
    "# Revisa las 6 filas superiores\n",
    "datos._(6)"
   ]
  },
  {
   "cell_type": "code",
   "execution_count": null,
   "metadata": {
    "collapsed": true,
    "jupyter": {
     "outputs_hidden": true
    }
   },
   "outputs": [],
   "source": [
    "# Revisa las 7 filas inferiores\n",
    "datos._(7)"
   ]
  },
  {
   "cell_type": "code",
   "execution_count": null,
   "metadata": {
    "collapsed": true,
    "jupyter": {
     "outputs_hidden": true
    }
   },
   "outputs": [],
   "source": [
    "# Revisa la estructura del DataFrame\n",
    "datos._()"
   ]
  },
  {
   "cell_type": "code",
   "execution_count": null,
   "metadata": {
    "collapsed": true,
    "jupyter": {
     "outputs_hidden": true
    }
   },
   "outputs": [],
   "source": [
    "# Revisa el resumen de los datos\n",
    "datos._()"
   ]
  },
  {
   "cell_type": "markdown",
   "metadata": {},
   "source": [
    "### Solicitud 1\n",
    "Haz sido contratado como Data Scientist por el Bano Mundial y estás trabajando en un proyecto para analizar las tendencias demográficas del mundo.\n",
    "\n",
    "Te han solicitado que desarrolles un diagrama de dispersión ilustrando la Tasa de Natalidad y los Usuarios de Internet por País. \n",
    "\n",
    "El diagrama de dispersión debe de estar categorizado por el Ingreso de los Países. "
   ]
  },
  {
   "cell_type": "code",
   "execution_count": null,
   "metadata": {
    "collapsed": true,
    "jupyter": {
     "outputs_hidden": true
    }
   },
   "outputs": [],
   "source": [
    "# Grafica la Tasa de Natalidad contra los Usuarios de Internet categorizando por Grupo de Ingreso\n",
    "vis1 = sns._( data = datos, x = '_', y = '_', fit_reg = False, hue = '_', size = 10 )"
   ]
  },
  {
   "cell_type": "markdown",
   "metadata": {},
   "source": [
    "### Solicitud 2 \n",
    "\n",
    "Haz recibido una actualización urgente de tu jefe. \n",
    "\n",
    "Te han solicitado que generes un segundo diagrama de dispersión ilustrando la Tasa de Natalidad y los Usuarios de Internet por País. \n",
    "\n",
    "Sin embargo, en esta ocasión el diagrama de dispersión necesita ser categorizado por Región \n",
    "\n",
    "Adicionalmente te han proporcionado datos en la forma de listas."
   ]
  },
  {
   "cell_type": "code",
   "execution_count": null,
   "metadata": {
    "collapsed": true,
    "jupyter": {
     "outputs_hidden": true
    }
   },
   "outputs": [],
   "source": [
    "# Copia aquí los datos proveídos para la tarea en forma de listas, \n",
    "# Nombre de Países, Códigos y Regiones"
   ]
  },
  {
   "cell_type": "code",
   "execution_count": null,
   "metadata": {
    "collapsed": true,
    "jupyter": {
     "outputs_hidden": true
    }
   },
   "outputs": [],
   "source": [
    "# Crea el DataFrame\n",
    "datos_paises = pd._({'NombrePais': np.array(paises_datos_2012), \n",
    "                             'CodigoPais': np.array(codigos_datos_2012),\n",
    "                             'RegionPais': np.array(regiones_datos_2012)})"
   ]
  },
  {
   "cell_type": "code",
   "execution_count": null,
   "metadata": {
    "collapsed": true,
    "jupyter": {
     "outputs_hidden": true
    }
   },
   "outputs": [],
   "source": [
    "# Explora los datos\n",
    "datos_paises._()"
   ]
  },
  {
   "cell_type": "code",
   "execution_count": null,
   "metadata": {
    "collapsed": true,
    "jupyter": {
     "outputs_hidden": true
    }
   },
   "outputs": [],
   "source": [
    "# Combina los datos de los países con el DataFrame original\n",
    "datos_combinados = pd._(left=datos, right=datos_paises, how='inner', on=\"CodigoPais\")"
   ]
  },
  {
   "cell_type": "code",
   "execution_count": null,
   "metadata": {
    "collapsed": true,
    "jupyter": {
     "outputs_hidden": true
    }
   },
   "outputs": [],
   "source": [
    "# Explora los datos\n",
    "datos_combinados._()"
   ]
  },
  {
   "cell_type": "code",
   "execution_count": null,
   "metadata": {
    "collapsed": true,
    "jupyter": {
     "outputs_hidden": true
    }
   },
   "outputs": [],
   "source": [
    "# Grafica la Tasa de Natalidad contra los Usuarios de Internet categorizando por Región\n",
    "vis2 = sns._( data = datos_combinados, x = '_', y = '_', fit_reg = False, hue = '_', size = 10 )"
   ]
  },
  {
   "cell_type": "markdown",
   "metadata": {},
   "source": [
    "### Reto\n",
    "\n",
    "El Banco Mundial quedó impresionado con tus entregables del entregable pasado, por lo que tienen un nuevo proyecto para ti. \n",
    "\n",
    "Te han solicitado que desarrolles un Diagrama de Dispersión comparando las estadísticas de Expectativa de Vida (eje Y) contra la Tasa de Natalidad (eje X) por País. \n",
    "\n",
    "El Diagrama de Dispersión debe de venir categorizado por Regiones de Países. \n",
    "\n",
    "Te han proveído de datos para 2 años: 1960 y 2013. Te han requerido que produzcas una visualización para cada uno de estos años. \n",
    "\n",
    "Algunos datos te los han proveído en un archivo CSV y otros como listas de Python. El archivo CSV cuenta con información para ambos años. Todas las manipulaciones de los datos deben de realizarse en Python (no en Excel) porque el proyecto puede ser auditado más adelante. \n",
    "\n",
    "También te han requerido que proveas insights de la comparación entre los dos años. "
   ]
  },
  {
   "cell_type": "code",
   "execution_count": null,
   "metadata": {
    "collapsed": true,
    "jupyter": {
     "outputs_hidden": true
    }
   },
   "outputs": [],
   "source": [
    "# Copia aquí los datos de la tarea proveídos en listas, \n",
    "# Codigo de País y expectativa de vida al nacer en 1960 y 2013"
   ]
  },
  {
   "cell_type": "code",
   "execution_count": null,
   "metadata": {
    "collapsed": true,
    "jupyter": {
     "outputs_hidden": true
    }
   },
   "outputs": [],
   "source": [
    "# Crea un DataFrame con la expectativa de vida \n",
    "datos_expectativa_vida = pd._({'CodigoPais': np.array(codigo_pais),\n",
    "                              'ExpVida1960': np.array(expectativa_vida_al_nacer_1960),\n",
    "                              'ExpVida2013': np.array(expectativa_vida_al_nacer_2013)})"
   ]
  },
  {
   "cell_type": "code",
   "execution_count": null,
   "metadata": {
    "collapsed": true,
    "jupyter": {
     "outputs_hidden": true
    }
   },
   "outputs": [],
   "source": [
    "# Revisa cuántas filas son\n",
    "_(_(datos_expectativa_vida)) #187 rows"
   ]
  },
  {
   "cell_type": "code",
   "execution_count": null,
   "metadata": {
    "collapsed": true,
    "jupyter": {
     "outputs_hidden": true
    }
   },
   "outputs": [],
   "source": [
    "# Revisa los reúmenes\n",
    "datos_expectativa_vida._()"
   ]
  },
  {
   "cell_type": "markdown",
   "metadata": {},
   "source": [
    "Viste que hay más de un años en los datos? Por el reto sabemos que hay dos: **1960** y **2013**"
   ]
  },
  {
   "cell_type": "code",
   "execution_count": null,
   "metadata": {
    "collapsed": true,
    "jupyter": {
     "outputs_hidden": true
    }
   },
   "outputs": [],
   "source": [
    "# Combina el DataFrame con la Expectativa de Vida\n",
    "datos_combinados = pd._(left=datos_combinados, right=datos_expectativa_vida, how='inner', on='CodigoPais')"
   ]
  },
  {
   "cell_type": "code",
   "execution_count": null,
   "metadata": {
    "collapsed": true,
    "jupyter": {
     "outputs_hidden": true
    }
   },
   "outputs": [],
   "source": [
    "# Explora los datos\n",
    "datos_combinados._()"
   ]
  },
  {
   "cell_type": "code",
   "execution_count": null,
   "metadata": {
    "collapsed": true,
    "jupyter": {
     "outputs_hidden": true
    }
   },
   "outputs": [],
   "source": [
    "# Revisa la nueva estructura\n",
    "datos_combinados._()"
   ]
  },
  {
   "cell_type": "markdown",
   "metadata": {},
   "source": [
    "Podemos ver columnas obsoletas por la operación de combinación"
   ]
  },
  {
   "cell_type": "code",
   "execution_count": null,
   "metadata": {
    "collapsed": true,
    "jupyter": {
     "outputs_hidden": true
    }
   },
   "outputs": [],
   "source": [
    "# Cambia el nombre de una de las columnas que contiene los Nombres de Países y elimina la otra\n",
    "datos_combinados._(columns = {'NombrePais_x':'NombrePais'}, inplace = True)\n",
    "_ datos_combinados['NombrePais_y']"
   ]
  },
  {
   "cell_type": "code",
   "execution_count": null,
   "metadata": {
    "collapsed": true,
    "jupyter": {
     "outputs_hidden": true
    }
   },
   "outputs": [],
   "source": [
    "# Revisa la estructura otra vez\n",
    "datos_combinados._()"
   ]
  },
  {
   "cell_type": "code",
   "execution_count": null,
   "metadata": {
    "collapsed": true,
    "jupyter": {
     "outputs_hidden": true
    }
   },
   "outputs": [],
   "source": [
    "# Grafica la Tasa de Natalidad contra la Expectativa de Vida categorizada por Región en 1960\n",
    "vis3 = sns._( data = datos_combinados, x = '_', y = '_', fit_reg = False, hue = '_', size = 10 )"
   ]
  },
  {
   "cell_type": "code",
   "execution_count": null,
   "metadata": {
    "collapsed": true,
    "jupyter": {
     "outputs_hidden": true
    }
   },
   "outputs": [],
   "source": [
    "# Grafica la Tasa de Natalidad contra la Expectativa de Vida categorizada por Región en 2013\n"
   ]
  }
 ],
 "metadata": {
  "anaconda-cloud": {},
  "kernelspec": {
   "display_name": "Python 3 (ipykernel)",
   "language": "python",
   "name": "python3"
  },
  "language_info": {
   "codemirror_mode": {
    "name": "ipython",
    "version": 3
   },
   "file_extension": ".py",
   "mimetype": "text/x-python",
   "name": "python",
   "nbconvert_exporter": "python",
   "pygments_lexer": "ipython3",
   "version": "3.11.7"
  }
 },
 "nbformat": 4,
 "nbformat_minor": 4
}
